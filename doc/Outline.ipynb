{
 "metadata": {
  "name": "",
  "signature": "sha256:a421e7ff86e6f58f01ca00310f1d039c12293291a5b69c1afd9b4b2b0f7da1fe"
 },
 "nbformat": 3,
 "nbformat_minor": 0,
 "worksheets": [
  {
   "cells": [
    {
     "cell_type": "heading",
     "level": 1,
     "metadata": {},
     "source": [
      "Introduction to Python Workshop"
     ]
    },
    {
     "cell_type": "markdown",
     "metadata": {},
     "source": [
      "This notebook is the outline for the workshop, including all examples. However, it does not include detailed explanations of the material covered in the workshop.\n",
      "\n",
      "Workshop website: http://bit.ly/hack-python-workshop (http://hack-at-uchicago.github.io/python-workshop/)\n",
      "\n",
      "The tweet datasets for the exercises is available at: http://people.cs.uchicago.edu/~borja/upload/tweets.zip [45MB]\n",
      "\n",
      "The live code will be available at http://bit.ly/pyw-live-code"
     ]
    },
    {
     "cell_type": "code",
     "collapsed": false,
     "input": [
      "# Necessary to run the Twitter examples\n",
      "import sys\n",
      "sys.path.append(\"../examples/twitter\")\n",
      "TWEETS_FILE = \"../examples/twitter/tweets.json\"\n",
      "TOPTWEETS_FILE = \"../examples/twitter/top_tweets.json\"\n",
      "import workshop"
     ],
     "language": "python",
     "metadata": {},
     "outputs": [],
     "prompt_number": 48
    },
    {
     "cell_type": "heading",
     "level": 2,
     "metadata": {},
     "source": [
      "Introduction to Python"
     ]
    },
    {
     "cell_type": "markdown",
     "metadata": {},
     "source": [
      "We start by showing a piece of Python code. The goal is to highlight that, if you know C/C++/Java/etc., you probably know how to read Python."
     ]
    },
    {
     "cell_type": "code",
     "collapsed": false,
     "input": [
      "a = [10, 1, 2, 76, 20, 3, 20, 49, 98, 5]\n",
      "n = 0\n",
      "for i in a:\n",
      "    if i > 5:\n",
      "        print i\n",
      "    else:   \n",
      "        n += 1\n",
      "\n",
      "print \"n is \" + str(n)"
     ],
     "language": "python",
     "metadata": {},
     "outputs": [
      {
       "output_type": "stream",
       "stream": "stdout",
       "text": [
        "10\n",
        "76\n",
        "20\n",
        "20\n",
        "49\n",
        "98\n",
        "n is 4\n"
       ]
      }
     ],
     "prompt_number": 1
    },
    {
     "cell_type": "markdown",
     "metadata": {},
     "source": [
      "Students should submit the output here: http://bit.ly/hack-python"
     ]
    },
    {
     "cell_type": "markdown",
     "metadata": {},
     "source": [
      "We use this code to highlight some of the main differences between Python and other languages. We will show the equivalent C code, since most students who have signed up have either a C or Java background.\n",
      "\n",
      "The equivalent C code is:\n",
      "\n",
      "    #include<stdio.h>\n",
      "\n",
      "    int main()\n",
      "    {\n",
      "        int a[] = {10, 1, 2, 76, 20, 3, 20, 49, 98, 5};\n",
      "        int n = 0;\n",
      "    \n",
      "        for(int i=0; i < 10; i++)\n",
      "        {\n",
      "            if(a[i] > 5)\n",
      "                printf(\"%i\\n\", a[i]);\n",
      "            else\n",
      "                n++;\n",
      "        }\n",
      "    \n",
      "        printf(\"n is %i\\n\", n);\n",
      "    }"
     ]
    },
    {
     "cell_type": "markdown",
     "metadata": {},
     "source": [
      "Main differences:\n",
      "\n",
      " - Dynamically typed\n",
      " - Blocks delimited using tabs\n",
      " - Lists are a first-class citizen\n",
      " - You can loop directly on the values of the list, no need to use an index variable\n",
      " - No need for a main() function \n",
      " \n",
      "Now, show the same code in the interpreter."
     ]
    },
    {
     "cell_type": "heading",
     "level": 3,
     "metadata": {},
     "source": [
      "Exercise"
     ]
    },
    {
     "cell_type": "markdown",
     "metadata": {},
     "source": [
      "Make sure that you are able to run the intro.py file from the command line (examples/simple/intro.py). Next, try running that same code from the interpreter."
     ]
    },
    {
     "cell_type": "heading",
     "level": 2,
     "metadata": {},
     "source": [
      "Lists"
     ]
    },
    {
     "cell_type": "markdown",
     "metadata": {},
     "source": [
      "At this point, we're going to go through a lot of short examples on the IPython notebook.\n",
      "\n",
      "Explain that we are not going to \"lecture\" about all the language features. Instead, we are going to show multiple examples (which students will have access to). When we get to the exercises, students will need to extrapolate from the various features that are highlighted in the examples."
     ]
    },
    {
     "cell_type": "code",
     "collapsed": false,
     "input": [
      "lang = [\"C\", \"C++\", \"Python\", \"Java\"]"
     ],
     "language": "python",
     "metadata": {},
     "outputs": [],
     "prompt_number": 2
    },
    {
     "cell_type": "code",
     "collapsed": false,
     "input": [
      "print lang"
     ],
     "language": "python",
     "metadata": {},
     "outputs": [
      {
       "output_type": "stream",
       "stream": "stdout",
       "text": [
        "['C', 'C++', 'Python', 'Java']\n"
       ]
      }
     ],
     "prompt_number": 3
    },
    {
     "cell_type": "code",
     "collapsed": false,
     "input": [
      "nums = [3,187,1232,53,21398]"
     ],
     "language": "python",
     "metadata": {},
     "outputs": [],
     "prompt_number": 4
    },
    {
     "cell_type": "code",
     "collapsed": false,
     "input": [
      "print nums"
     ],
     "language": "python",
     "metadata": {},
     "outputs": [
      {
       "output_type": "stream",
       "stream": "stdout",
       "text": [
        "[3, 187, 1232, 53, 21398]\n"
       ]
      }
     ],
     "prompt_number": 5
    },
    {
     "cell_type": "code",
     "collapsed": false,
     "input": [
      "l = [\"string\", 4, 5.0, True]"
     ],
     "language": "python",
     "metadata": {},
     "outputs": [],
     "prompt_number": 6
    },
    {
     "cell_type": "code",
     "collapsed": false,
     "input": [
      "print l"
     ],
     "language": "python",
     "metadata": {},
     "outputs": [
      {
       "output_type": "stream",
       "stream": "stdout",
       "text": [
        "['string', 4, 5.0, True]\n"
       ]
      }
     ],
     "prompt_number": 7
    },
    {
     "cell_type": "code",
     "collapsed": false,
     "input": [
      "lang[2]"
     ],
     "language": "python",
     "metadata": {},
     "outputs": [
      {
       "metadata": {},
       "output_type": "pyout",
       "prompt_number": 8,
       "text": [
        "'Python'"
       ]
      }
     ],
     "prompt_number": 8
    },
    {
     "cell_type": "code",
     "collapsed": false,
     "input": [
      "lang[4]"
     ],
     "language": "python",
     "metadata": {},
     "outputs": [
      {
       "ename": "IndexError",
       "evalue": "list index out of range",
       "output_type": "pyerr",
       "traceback": [
        "\u001b[1;31m---------------------------------------------------------------------------\u001b[0m\n\u001b[1;31mIndexError\u001b[0m                                Traceback (most recent call last)",
        "\u001b[1;32m<ipython-input-9-e83aaddb2283>\u001b[0m in \u001b[0;36m<module>\u001b[1;34m()\u001b[0m\n\u001b[1;32m----> 1\u001b[1;33m \u001b[0mlang\u001b[0m\u001b[1;33m[\u001b[0m\u001b[1;36m4\u001b[0m\u001b[1;33m]\u001b[0m\u001b[1;33m\u001b[0m\u001b[0m\n\u001b[0m",
        "\u001b[1;31mIndexError\u001b[0m: list index out of range"
       ]
      }
     ],
     "prompt_number": 9
    },
    {
     "cell_type": "code",
     "collapsed": false,
     "input": [
      "lang[-1]"
     ],
     "language": "python",
     "metadata": {},
     "outputs": [
      {
       "metadata": {},
       "output_type": "pyout",
       "prompt_number": 10,
       "text": [
        "'Java'"
       ]
      }
     ],
     "prompt_number": 10
    },
    {
     "cell_type": "code",
     "collapsed": false,
     "input": [
      "lang[-2]"
     ],
     "language": "python",
     "metadata": {},
     "outputs": [
      {
       "metadata": {},
       "output_type": "pyout",
       "prompt_number": 11,
       "text": [
        "'Python'"
       ]
      }
     ],
     "prompt_number": 11
    },
    {
     "cell_type": "code",
     "collapsed": false,
     "input": [
      "lang[0:2]"
     ],
     "language": "python",
     "metadata": {},
     "outputs": [
      {
       "metadata": {},
       "output_type": "pyout",
       "prompt_number": 12,
       "text": [
        "['C', 'C++']"
       ]
      }
     ],
     "prompt_number": 12
    },
    {
     "cell_type": "code",
     "collapsed": false,
     "input": [
      "lang[0:4:2]"
     ],
     "language": "python",
     "metadata": {},
     "outputs": [
      {
       "metadata": {},
       "output_type": "pyout",
       "prompt_number": 61,
       "text": [
        "['C', 'Java']"
       ]
      }
     ],
     "prompt_number": 61
    },
    {
     "cell_type": "code",
     "collapsed": false,
     "input": [
      "len(lang)"
     ],
     "language": "python",
     "metadata": {},
     "outputs": [
      {
       "metadata": {},
       "output_type": "pyout",
       "prompt_number": 62,
       "text": [
        "6"
       ]
      }
     ],
     "prompt_number": 62
    },
    {
     "cell_type": "code",
     "collapsed": false,
     "input": [
      "# If you're accustomed to...\n",
      "# \n",
      "# for(int i = 0; i < N; i++)\n",
      "#\n",
      "# You may be tempted to write this:\n",
      "\n",
      "for i in range(len(lang)):\n",
      "    print lang[i]"
     ],
     "language": "python",
     "metadata": {},
     "outputs": [
      {
       "output_type": "stream",
       "stream": "stdout",
       "text": [
        "C\n",
        "C++\n",
        "Java\n",
        "Pascal\n",
        "Python\n",
        "Scheme\n"
       ]
      }
     ],
     "prompt_number": 64
    },
    {
     "cell_type": "markdown",
     "metadata": {},
     "source": [
      "The above is \"not pythonic\""
     ]
    },
    {
     "cell_type": "code",
     "collapsed": false,
     "input": [
      "range(5)"
     ],
     "language": "python",
     "metadata": {},
     "outputs": [
      {
       "metadata": {},
       "output_type": "pyout",
       "prompt_number": 65,
       "text": [
        "[0, 1, 2, 3, 4]"
       ]
      }
     ],
     "prompt_number": 65
    },
    {
     "cell_type": "code",
     "collapsed": false,
     "input": [
      "range(4,10)"
     ],
     "language": "python",
     "metadata": {},
     "outputs": [
      {
       "metadata": {},
       "output_type": "pyout",
       "prompt_number": 66,
       "text": [
        "[4, 5, 6, 7, 8, 9]"
       ]
      }
     ],
     "prompt_number": 66
    },
    {
     "cell_type": "code",
     "collapsed": false,
     "input": [
      "# This is the pythonic way of iterating over a list\n",
      "for l in lang:\n",
      "    print l"
     ],
     "language": "python",
     "metadata": {},
     "outputs": [
      {
       "output_type": "stream",
       "stream": "stdout",
       "text": [
        "C\n",
        "C++\n",
        "Java\n",
        "Pascal\n",
        "Python\n",
        "Scheme\n"
       ]
      }
     ],
     "prompt_number": 68
    },
    {
     "cell_type": "code",
     "collapsed": false,
     "input": [
      "lang.append(\"Scheme\")"
     ],
     "language": "python",
     "metadata": {},
     "outputs": [],
     "prompt_number": 14
    },
    {
     "cell_type": "code",
     "collapsed": false,
     "input": [
      "lang"
     ],
     "language": "python",
     "metadata": {},
     "outputs": [
      {
       "metadata": {},
       "output_type": "pyout",
       "prompt_number": 15,
       "text": [
        "['C', 'C++', 'Python', 'Java', 'Scheme']"
       ]
      }
     ],
     "prompt_number": 15
    },
    {
     "cell_type": "code",
     "collapsed": false,
     "input": [
      "lang2 = [\"Pascal\", \"FORTRAN\"]"
     ],
     "language": "python",
     "metadata": {},
     "outputs": [],
     "prompt_number": 16
    },
    {
     "cell_type": "code",
     "collapsed": false,
     "input": [
      "lang + lang2"
     ],
     "language": "python",
     "metadata": {},
     "outputs": [
      {
       "metadata": {},
       "output_type": "pyout",
       "prompt_number": 17,
       "text": [
        "['C', 'C++', 'Python', 'Java', 'Scheme', 'Pascal', 'FORTRAN']"
       ]
      }
     ],
     "prompt_number": 17
    },
    {
     "cell_type": "code",
     "collapsed": false,
     "input": [
      "lang.extend(lang2)"
     ],
     "language": "python",
     "metadata": {},
     "outputs": [],
     "prompt_number": 18
    },
    {
     "cell_type": "code",
     "collapsed": false,
     "input": [
      "lang"
     ],
     "language": "python",
     "metadata": {},
     "outputs": [
      {
       "metadata": {},
       "output_type": "pyout",
       "prompt_number": 19,
       "text": [
        "['C', 'C++', 'Python', 'Java', 'Scheme', 'Pascal', 'FORTRAN']"
       ]
      }
     ],
     "prompt_number": 19
    },
    {
     "cell_type": "code",
     "collapsed": false,
     "input": [
      "lang.insert(2, \"Haskell\")"
     ],
     "language": "python",
     "metadata": {},
     "outputs": [],
     "prompt_number": 20
    },
    {
     "cell_type": "code",
     "collapsed": false,
     "input": [
      "lang"
     ],
     "language": "python",
     "metadata": {},
     "outputs": [
      {
       "metadata": {},
       "output_type": "pyout",
       "prompt_number": 21,
       "text": [
        "['C', 'C++', 'Haskell', 'Python', 'Java', 'Scheme', 'Pascal', 'FORTRAN']"
       ]
      }
     ],
     "prompt_number": 21
    },
    {
     "cell_type": "code",
     "collapsed": false,
     "input": [
      "del lang[2]"
     ],
     "language": "python",
     "metadata": {},
     "outputs": [],
     "prompt_number": 22
    },
    {
     "cell_type": "code",
     "collapsed": false,
     "input": [
      "lang"
     ],
     "language": "python",
     "metadata": {},
     "outputs": [
      {
       "metadata": {},
       "output_type": "pyout",
       "prompt_number": 23,
       "text": [
        "['C', 'C++', 'Python', 'Java', 'Scheme', 'Pascal', 'FORTRAN']"
       ]
      }
     ],
     "prompt_number": 23
    },
    {
     "cell_type": "code",
     "collapsed": false,
     "input": [
      "lang.pop()"
     ],
     "language": "python",
     "metadata": {},
     "outputs": [
      {
       "metadata": {},
       "output_type": "pyout",
       "prompt_number": 24,
       "text": [
        "'FORTRAN'"
       ]
      }
     ],
     "prompt_number": 24
    },
    {
     "cell_type": "code",
     "collapsed": false,
     "input": [
      "lang"
     ],
     "language": "python",
     "metadata": {},
     "outputs": [
      {
       "metadata": {},
       "output_type": "pyout",
       "prompt_number": 25,
       "text": [
        "['C', 'C++', 'Python', 'Java', 'Scheme', 'Pascal']"
       ]
      }
     ],
     "prompt_number": 25
    },
    {
     "cell_type": "code",
     "collapsed": false,
     "input": [
      "max(lang)"
     ],
     "language": "python",
     "metadata": {},
     "outputs": [
      {
       "metadata": {},
       "output_type": "pyout",
       "prompt_number": 27,
       "text": [
        "'Scheme'"
       ]
      }
     ],
     "prompt_number": 27
    },
    {
     "cell_type": "code",
     "collapsed": false,
     "input": [
      "min(lang)"
     ],
     "language": "python",
     "metadata": {},
     "outputs": [
      {
       "metadata": {},
       "output_type": "pyout",
       "prompt_number": 28,
       "text": [
        "'C'"
       ]
      }
     ],
     "prompt_number": 28
    },
    {
     "cell_type": "code",
     "collapsed": false,
     "input": [
      "lang.count(\"Java\")"
     ],
     "language": "python",
     "metadata": {},
     "outputs": [
      {
       "metadata": {},
       "output_type": "pyout",
       "prompt_number": 29,
       "text": [
        "1"
       ]
      }
     ],
     "prompt_number": 29
    },
    {
     "cell_type": "code",
     "collapsed": false,
     "input": [
      "lang.reverse()"
     ],
     "language": "python",
     "metadata": {},
     "outputs": [],
     "prompt_number": 30
    },
    {
     "cell_type": "code",
     "collapsed": false,
     "input": [
      "lang"
     ],
     "language": "python",
     "metadata": {},
     "outputs": [
      {
       "metadata": {},
       "output_type": "pyout",
       "prompt_number": 31,
       "text": [
        "['Pascal', 'Scheme', 'Java', 'Python', 'C++', 'C']"
       ]
      }
     ],
     "prompt_number": 31
    },
    {
     "cell_type": "code",
     "collapsed": false,
     "input": [
      "lang.sort()"
     ],
     "language": "python",
     "metadata": {},
     "outputs": [],
     "prompt_number": 32
    },
    {
     "cell_type": "code",
     "collapsed": false,
     "input": [
      "lang"
     ],
     "language": "python",
     "metadata": {},
     "outputs": [
      {
       "metadata": {},
       "output_type": "pyout",
       "prompt_number": 33,
       "text": [
        "['C', 'C++', 'Java', 'Pascal', 'Python', 'Scheme']"
       ]
      }
     ],
     "prompt_number": 33
    },
    {
     "cell_type": "heading",
     "level": 3,
     "metadata": {},
     "source": [
      "Twitter example"
     ]
    },
    {
     "cell_type": "markdown",
     "metadata": {},
     "source": [
      "We are going to use a Twitter dataset for the examples. The individual tweets are stored in JSON, but we provide a \"workshop.py\" module that abstracts this away."
     ]
    },
    {
     "cell_type": "code",
     "collapsed": false,
     "input": [
      "tweets = workshop.get_tweets_text(TOPTWEETS_FILE, 10)"
     ],
     "language": "python",
     "metadata": {},
     "outputs": [],
     "prompt_number": 126
    },
    {
     "cell_type": "code",
     "collapsed": false,
     "input": [
      "tweets"
     ],
     "language": "python",
     "metadata": {},
     "outputs": [
      {
       "metadata": {},
       "output_type": "pyout",
       "prompt_number": 127,
       "text": [
        "[u'rt if u used to wear love spell',\n",
        " u'TWO SUMMERS IN ONE YEAR?! THANKS AUSTRALIA!\\U0001f334\\u2600\\ufe0f\\U0001f357\\U0001f385\\u2600\\ufe0f\\U0001f334',\n",
        " u'\\U0001f64f heaven is a place on earth \\U0001f64f http://t.co/BcKOCys75p',\n",
        " u\"The more fuzzy stuff you wear the more he'll think you're an actual teddy bear.\",\n",
        " u'hi http://t.co/ihlaO8XyUF',\n",
        " u'RT @WORLDSTARVlNE: OMG @katyperry HALLOWEEN COSTUME http://t.co/lN7y2BMGGJ',\n",
        " u'RT @WorIdStarComedy: Katy Perry the realest http://t.co/l9zTSk6egI',\n",
        " u'\\U0001f383whore-o-ween\\U0001f383',\n",
        " u'Lay me down on ur flames @ChesterCheetah: @katyperry If u think u can make me fall in \\u2764\\ufe0f by dressing as a Flamin Hot Cheeto, ur 100% correct',\n",
        " u'*WIPES CHEETO DUST OFF SHOULDERS* \\u201c@FLApfkp: u da real mvp @katyperry http://t.co/9PGvGxEyvR\\u201d']"
       ]
      }
     ],
     "prompt_number": 127
    },
    {
     "cell_type": "code",
     "collapsed": false,
     "input": [
      "for tweet in tweets:\n",
      "    print len(tweet)"
     ],
     "language": "python",
     "metadata": {},
     "outputs": [
      {
       "output_type": "stream",
       "stream": "stdout",
       "text": [
        "31\n",
        "51\n",
        "53\n",
        "79\n",
        "25\n",
        "74\n",
        "66\n",
        "14\n",
        "140\n",
        "93\n"
       ]
      }
     ],
     "prompt_number": 128
    },
    {
     "cell_type": "markdown",
     "metadata": {},
     "source": [
      "Now show this in a self-contained script, with command-line parameters (examples/twitter/get_tweet_lengths.py)"
     ]
    },
    {
     "cell_type": "heading",
     "level": 3,
     "metadata": {},
     "source": [
      "Exercise"
     ]
    },
    {
     "cell_type": "markdown",
     "metadata": {},
     "source": [
      "Modify get_tweet_lengths to compute the average length of the tweets."
     ]
    },
    {
     "cell_type": "code",
     "collapsed": false,
     "input": [
      "length_sum = 0.0\n",
      "n = 100\n",
      "for tweet in workshop.tweets_text(TOPTWEETS_FILE, n):\n",
      "    length_sum += len(tweet)\n",
      "\n",
      "avg = length_sum / n\n",
      "\n",
      "print avg"
     ],
     "language": "python",
     "metadata": {},
     "outputs": [
      {
       "output_type": "stream",
       "stream": "stdout",
       "text": [
        "94.8\n"
       ]
      }
     ],
     "prompt_number": 129
    },
    {
     "cell_type": "markdown",
     "metadata": {},
     "source": [
      "If you find that easy, modify it further so it will also compute the standard deviation. To compute the square root, do this:"
     ]
    },
    {
     "cell_type": "code",
     "collapsed": false,
     "input": [
      "import math\n",
      "\n",
      "math.sqrt(2)"
     ],
     "language": "python",
     "metadata": {},
     "outputs": [
      {
       "metadata": {},
       "output_type": "pyout",
       "prompt_number": 130,
       "text": [
        "1.4142135623730951"
       ]
      }
     ],
     "prompt_number": 130
    },
    {
     "cell_type": "markdown",
     "metadata": {},
     "source": [
      "Solution:"
     ]
    },
    {
     "cell_type": "code",
     "collapsed": false,
     "input": [
      "length_sum = 0.0\n",
      "n = 100\n",
      "lengths = []\n",
      "\n",
      "for tweet in workshop.tweets_text(TOPTWEETS_FILE, n):\n",
      "    length_sum += len(tweet)\n",
      "    lengths.append(len(tweet))\n",
      "\n",
      "avg = length_sum / n\n",
      "\n",
      "stdev_sum = 0\n",
      "for length in lengths:\n",
      "    stdev_sum += (length - avg)**2\n",
      "\n",
      "stdev = math.sqrt(stdev_sum/n)\n",
      "\n",
      "print \"The average length is %.2f\" % avg\n",
      "print \"The standard deviation is %.2f\" % stdev"
     ],
     "language": "python",
     "metadata": {},
     "outputs": [
      {
       "output_type": "stream",
       "stream": "stdout",
       "text": [
        "The average length is 94.80\n",
        "The standard deviation is 38.55\n"
       ]
      }
     ],
     "prompt_number": 131
    },
    {
     "cell_type": "heading",
     "level": 2,
     "metadata": {},
     "source": [
      "List Comprehensions"
     ]
    },
    {
     "cell_type": "code",
     "collapsed": false,
     "input": [
      "l = [100,200,300,400,500]"
     ],
     "language": "python",
     "metadata": {},
     "outputs": [],
     "prompt_number": 71
    },
    {
     "cell_type": "code",
     "collapsed": false,
     "input": [
      "l2 = []"
     ],
     "language": "python",
     "metadata": {},
     "outputs": [],
     "prompt_number": 72
    },
    {
     "cell_type": "code",
     "collapsed": false,
     "input": [
      "# Not pythonic!\n",
      "for i in range(len(l)):\n",
      "    l2.append(l[i] + 1)\n",
      "l2"
     ],
     "language": "python",
     "metadata": {},
     "outputs": [
      {
       "metadata": {},
       "output_type": "pyout",
       "prompt_number": 73,
       "text": [
        "[101, 201, 301, 401, 501]"
       ]
      }
     ],
     "prompt_number": 73
    },
    {
     "cell_type": "code",
     "collapsed": false,
     "input": [
      "# Better, but not best\n",
      "l2 = []\n",
      "for x in l:\n",
      "    l2.append(x + 1)\n",
      "l2"
     ],
     "language": "python",
     "metadata": {},
     "outputs": [
      {
       "metadata": {},
       "output_type": "pyout",
       "prompt_number": 74,
       "text": [
        "[101, 201, 301, 401, 501]"
       ]
      }
     ],
     "prompt_number": 74
    },
    {
     "cell_type": "code",
     "collapsed": false,
     "input": [
      "[x for x in l]"
     ],
     "language": "python",
     "metadata": {},
     "outputs": [
      {
       "metadata": {},
       "output_type": "pyout",
       "prompt_number": 75,
       "text": [
        "[100, 200, 300, 400, 500]"
       ]
      }
     ],
     "prompt_number": 75
    },
    {
     "cell_type": "code",
     "collapsed": false,
     "input": [
      "[x+1 for x in l]"
     ],
     "language": "python",
     "metadata": {},
     "outputs": [
      {
       "metadata": {},
       "output_type": "pyout",
       "prompt_number": 76,
       "text": [
        "[101, 201, 301, 401, 501]"
       ]
      }
     ],
     "prompt_number": 76
    },
    {
     "cell_type": "code",
     "collapsed": false,
     "input": [
      "l3 = [1,3,4,7,6,10,11]"
     ],
     "language": "python",
     "metadata": {},
     "outputs": [],
     "prompt_number": 77
    },
    {
     "cell_type": "code",
     "collapsed": false,
     "input": [
      "[x for x in l3 if x%2==1]"
     ],
     "language": "python",
     "metadata": {},
     "outputs": [
      {
       "metadata": {},
       "output_type": "pyout",
       "prompt_number": 78,
       "text": [
        "[1, 3, 7, 11]"
       ]
      }
     ],
     "prompt_number": 78
    },
    {
     "cell_type": "code",
     "collapsed": false,
     "input": [
      "l1 = [1,2,3,4,5]\n",
      "l2 = [100,200,300,400,500]\n",
      "l3 = []\n",
      "for i in range(len(l1)):\n",
      "    l3.append( l1[i] + l2[i] )\n",
      "l3"
     ],
     "language": "python",
     "metadata": {},
     "outputs": [
      {
       "metadata": {},
       "output_type": "pyout",
       "prompt_number": 79,
       "text": [
        "[101, 202, 303, 404, 505]"
       ]
      }
     ],
     "prompt_number": 79
    },
    {
     "cell_type": "code",
     "collapsed": false,
     "input": [
      "zl = zip(l1,l2)\n",
      "zl"
     ],
     "language": "python",
     "metadata": {},
     "outputs": [
      {
       "metadata": {},
       "output_type": "pyout",
       "prompt_number": 80,
       "text": [
        "[(1, 100), (2, 200), (3, 300), (4, 400), (5, 500)]"
       ]
      }
     ],
     "prompt_number": 80
    },
    {
     "cell_type": "code",
     "collapsed": false,
     "input": [
      "len(zl)"
     ],
     "language": "python",
     "metadata": {},
     "outputs": [
      {
       "metadata": {},
       "output_type": "pyout",
       "prompt_number": 81,
       "text": [
        "5"
       ]
      }
     ],
     "prompt_number": 81
    },
    {
     "cell_type": "code",
     "collapsed": false,
     "input": [
      "zip(l1,l2,l1,l2,[0.1,0.2,0.3,0.4,0.5])"
     ],
     "language": "python",
     "metadata": {},
     "outputs": [
      {
       "metadata": {},
       "output_type": "pyout",
       "prompt_number": 82,
       "text": [
        "[(1, 100, 1, 100, 0.1),\n",
        " (2, 200, 2, 200, 0.2),\n",
        " (3, 300, 3, 300, 0.3),\n",
        " (4, 400, 4, 400, 0.4),\n",
        " (5, 500, 5, 500, 0.5)]"
       ]
      }
     ],
     "prompt_number": 82
    },
    {
     "cell_type": "code",
     "collapsed": false,
     "input": [
      "zip( [1,2,3,4,5,6] , [100,200] )"
     ],
     "language": "python",
     "metadata": {},
     "outputs": [
      {
       "metadata": {},
       "output_type": "pyout",
       "prompt_number": 83,
       "text": [
        "[(1, 100), (2, 200)]"
       ]
      }
     ],
     "prompt_number": 83
    },
    {
     "cell_type": "code",
     "collapsed": false,
     "input": [
      "l3 = []\n",
      "for x in zl:\n",
      "    l3.append(x[0] + x[1])\n",
      "l3"
     ],
     "language": "python",
     "metadata": {},
     "outputs": [
      {
       "metadata": {},
       "output_type": "pyout",
       "prompt_number": 84,
       "text": [
        "[101, 202, 303, 404, 505]"
       ]
      }
     ],
     "prompt_number": 84
    },
    {
     "cell_type": "code",
     "collapsed": false,
     "input": [
      "l3=[]\n",
      "for x,y in zl:\n",
      "    l3.append(x+y)\n",
      "l3"
     ],
     "language": "python",
     "metadata": {},
     "outputs": [
      {
       "metadata": {},
       "output_type": "pyout",
       "prompt_number": 85,
       "text": [
        "[101, 202, 303, 404, 505]"
       ]
      }
     ],
     "prompt_number": 85
    },
    {
     "cell_type": "code",
     "collapsed": false,
     "input": [
      "l1\n",
      "l2\n",
      "[x+y for x,y in zip(l1,l2)]"
     ],
     "language": "python",
     "metadata": {},
     "outputs": [
      {
       "metadata": {},
       "output_type": "pyout",
       "prompt_number": 86,
       "text": [
        "[101, 202, 303, 404, 505]"
       ]
      }
     ],
     "prompt_number": 86
    },
    {
     "cell_type": "heading",
     "level": 2,
     "metadata": {},
     "source": [
      "Tuples"
     ]
    },
    {
     "cell_type": "code",
     "collapsed": false,
     "input": [
      "lt = [(1, 100), (2, 200), (3, 300), (4, 400), (5, 500)]"
     ],
     "language": "python",
     "metadata": {},
     "outputs": [],
     "prompt_number": 87
    },
    {
     "cell_type": "code",
     "collapsed": false,
     "input": [
      "lt[0] = \"foobar\""
     ],
     "language": "python",
     "metadata": {},
     "outputs": [],
     "prompt_number": 88
    },
    {
     "cell_type": "code",
     "collapsed": false,
     "input": [
      "lt"
     ],
     "language": "python",
     "metadata": {},
     "outputs": [
      {
       "metadata": {},
       "output_type": "pyout",
       "prompt_number": 89,
       "text": [
        "['foobar', (2, 200), (3, 300), (4, 400), (5, 500)]"
       ]
      }
     ],
     "prompt_number": 89
    },
    {
     "cell_type": "code",
     "collapsed": false,
     "input": [
      "lt[1][1] = 300"
     ],
     "language": "python",
     "metadata": {},
     "outputs": [
      {
       "ename": "TypeError",
       "evalue": "'tuple' object does not support item assignment",
       "output_type": "pyerr",
       "traceback": [
        "\u001b[1;31m---------------------------------------------------------------------------\u001b[0m\n\u001b[1;31mTypeError\u001b[0m                                 Traceback (most recent call last)",
        "\u001b[1;32m<ipython-input-90-e7dfa78e076a>\u001b[0m in \u001b[0;36m<module>\u001b[1;34m()\u001b[0m\n\u001b[1;32m----> 1\u001b[1;33m \u001b[0mlt\u001b[0m\u001b[1;33m[\u001b[0m\u001b[1;36m1\u001b[0m\u001b[1;33m]\u001b[0m\u001b[1;33m[\u001b[0m\u001b[1;36m1\u001b[0m\u001b[1;33m]\u001b[0m \u001b[1;33m=\u001b[0m \u001b[1;36m300\u001b[0m\u001b[1;33m\u001b[0m\u001b[0m\n\u001b[0m",
        "\u001b[1;31mTypeError\u001b[0m: 'tuple' object does not support item assignment"
       ]
      }
     ],
     "prompt_number": 90
    },
    {
     "cell_type": "heading",
     "level": 2,
     "metadata": {},
     "source": [
      "Strings"
     ]
    },
    {
     "cell_type": "code",
     "collapsed": false,
     "input": [
      "s1 = \"foobar\""
     ],
     "language": "python",
     "metadata": {},
     "outputs": [],
     "prompt_number": 91
    },
    {
     "cell_type": "code",
     "collapsed": false,
     "input": [
      "s2 = 'foobar'"
     ],
     "language": "python",
     "metadata": {},
     "outputs": [],
     "prompt_number": 92
    },
    {
     "cell_type": "code",
     "collapsed": false,
     "input": [
      "s1[0]"
     ],
     "language": "python",
     "metadata": {},
     "outputs": [
      {
       "metadata": {},
       "output_type": "pyout",
       "prompt_number": 93,
       "text": [
        "'f'"
       ]
      }
     ],
     "prompt_number": 93
    },
    {
     "cell_type": "code",
     "collapsed": false,
     "input": [
      "s1[1:4]"
     ],
     "language": "python",
     "metadata": {},
     "outputs": [
      {
       "metadata": {},
       "output_type": "pyout",
       "prompt_number": 94,
       "text": [
        "'oob'"
       ]
      }
     ],
     "prompt_number": 94
    },
    {
     "cell_type": "code",
     "collapsed": false,
     "input": [
      "s1 == s2"
     ],
     "language": "python",
     "metadata": {},
     "outputs": [
      {
       "metadata": {},
       "output_type": "pyout",
       "prompt_number": 95,
       "text": [
        "True"
       ]
      }
     ],
     "prompt_number": 95
    },
    {
     "cell_type": "code",
     "collapsed": false,
     "input": [
      "s1.find(\"oo\")"
     ],
     "language": "python",
     "metadata": {},
     "outputs": [
      {
       "metadata": {},
       "output_type": "pyout",
       "prompt_number": 96,
       "text": [
        "1"
       ]
      }
     ],
     "prompt_number": 96
    },
    {
     "cell_type": "code",
     "collapsed": false,
     "input": [
      "csv = \"foo,bar,baz\""
     ],
     "language": "python",
     "metadata": {},
     "outputs": [],
     "prompt_number": 97
    },
    {
     "cell_type": "code",
     "collapsed": false,
     "input": [
      "values = csv.split(\",\")"
     ],
     "language": "python",
     "metadata": {},
     "outputs": [],
     "prompt_number": 98
    },
    {
     "cell_type": "code",
     "collapsed": false,
     "input": [
      "values"
     ],
     "language": "python",
     "metadata": {},
     "outputs": [
      {
       "metadata": {},
       "output_type": "pyout",
       "prompt_number": 99,
       "text": [
        "['foo', 'bar', 'baz']"
       ]
      }
     ],
     "prompt_number": 99
    },
    {
     "cell_type": "code",
     "collapsed": false,
     "input": [
      "sep = \"|\"\n",
      "sep.join(values)"
     ],
     "language": "python",
     "metadata": {},
     "outputs": [
      {
       "metadata": {},
       "output_type": "pyout",
       "prompt_number": 100,
       "text": [
        "'foo|bar|baz'"
       ]
      }
     ],
     "prompt_number": 100
    },
    {
     "cell_type": "code",
     "collapsed": false,
     "input": [
      "\"|\".join(values)"
     ],
     "language": "python",
     "metadata": {},
     "outputs": [
      {
       "metadata": {},
       "output_type": "pyout",
       "prompt_number": 101,
       "text": [
        "'foo|bar|baz'"
       ]
      }
     ],
     "prompt_number": 101
    },
    {
     "cell_type": "code",
     "collapsed": false,
     "input": [
      "\"foobar\".islower()"
     ],
     "language": "python",
     "metadata": {},
     "outputs": [
      {
       "metadata": {},
       "output_type": "pyout",
       "prompt_number": 102,
       "text": [
        "True"
       ]
      }
     ],
     "prompt_number": 102
    },
    {
     "cell_type": "code",
     "collapsed": false,
     "input": [
      "\"foobar\".isupper()"
     ],
     "language": "python",
     "metadata": {},
     "outputs": [
      {
       "metadata": {},
       "output_type": "pyout",
       "prompt_number": 103,
       "text": [
        "False"
       ]
      }
     ],
     "prompt_number": 103
    },
    {
     "cell_type": "code",
     "collapsed": false,
     "input": [
      "\"hello world\".capitalize()"
     ],
     "language": "python",
     "metadata": {},
     "outputs": [
      {
       "metadata": {},
       "output_type": "pyout",
       "prompt_number": 104,
       "text": [
        "'Hello world'"
       ]
      }
     ],
     "prompt_number": 104
    },
    {
     "cell_type": "heading",
     "level": 2,
     "metadata": {},
     "source": [
      "Sets"
     ]
    },
    {
     "cell_type": "heading",
     "level": 2,
     "metadata": {},
     "source": [
      "Dictionaries"
     ]
    },
    {
     "cell_type": "markdown",
     "metadata": {},
     "source": [
      "Explain what dictionaries are (associative arrays, map keys to values, etc.)"
     ]
    },
    {
     "cell_type": "code",
     "collapsed": false,
     "input": [
      "d = {}"
     ],
     "language": "python",
     "metadata": {},
     "outputs": []
    },
    {
     "cell_type": "code",
     "collapsed": false,
     "input": [
      "d[\"A\"] = 4.0"
     ],
     "language": "python",
     "metadata": {},
     "outputs": []
    },
    {
     "cell_type": "code",
     "collapsed": false,
     "input": [
      "d[\"A-\"] = 3.7"
     ],
     "language": "python",
     "metadata": {},
     "outputs": []
    },
    {
     "cell_type": "code",
     "collapsed": false,
     "input": [
      "d[\"B+\"] = 3.3"
     ],
     "language": "python",
     "metadata": {},
     "outputs": []
    },
    {
     "cell_type": "code",
     "collapsed": false,
     "input": [
      "d"
     ],
     "language": "python",
     "metadata": {},
     "outputs": []
    },
    {
     "cell_type": "code",
     "collapsed": false,
     "input": [
      "d2 = {\"ten\": 10, \"twenty\": 20, \"thirty\": 30}"
     ],
     "language": "python",
     "metadata": {},
     "outputs": []
    },
    {
     "cell_type": "code",
     "collapsed": false,
     "input": [
      "d[\"A\"]"
     ],
     "language": "python",
     "metadata": {},
     "outputs": []
    },
    {
     "cell_type": "code",
     "collapsed": false,
     "input": [
      "d2[\"ten\"]"
     ],
     "language": "python",
     "metadata": {},
     "outputs": []
    },
    {
     "cell_type": "code",
     "collapsed": false,
     "input": [
      "d2[\"forty\"]"
     ],
     "language": "python",
     "metadata": {},
     "outputs": []
    },
    {
     "cell_type": "code",
     "collapsed": false,
     "input": [
      "d2.has_key(\"ten\")"
     ],
     "language": "python",
     "metadata": {},
     "outputs": []
    },
    {
     "cell_type": "code",
     "collapsed": false,
     "input": [
      "del d[\"A\"]"
     ],
     "language": "python",
     "metadata": {},
     "outputs": []
    },
    {
     "cell_type": "code",
     "collapsed": false,
     "input": [
      "d"
     ],
     "language": "python",
     "metadata": {},
     "outputs": []
    },
    {
     "cell_type": "code",
     "collapsed": false,
     "input": [
      "d2.keys()"
     ],
     "language": "python",
     "metadata": {},
     "outputs": []
    },
    {
     "cell_type": "code",
     "collapsed": false,
     "input": [
      "d2.values()"
     ],
     "language": "python",
     "metadata": {},
     "outputs": []
    },
    {
     "cell_type": "code",
     "collapsed": false,
     "input": [
      "d2.keys()"
     ],
     "language": "python",
     "metadata": {},
     "outputs": []
    },
    {
     "cell_type": "code",
     "collapsed": false,
     "input": [
      "d2.items()"
     ],
     "language": "python",
     "metadata": {},
     "outputs": []
    },
    {
     "cell_type": "code",
     "collapsed": false,
     "input": [
      "for k,v in d2.items():\n",
      "    print k, v"
     ],
     "language": "python",
     "metadata": {},
     "outputs": [
      {
       "ename": "NameError",
       "evalue": "name 'd2' is not defined",
       "output_type": "pyerr",
       "traceback": [
        "\u001b[1;31m---------------------------------------------------------------------------\u001b[0m\n\u001b[1;31mNameError\u001b[0m                                 Traceback (most recent call last)",
        "\u001b[1;32m<ipython-input-117-e8be3fda525c>\u001b[0m in \u001b[0;36m<module>\u001b[1;34m()\u001b[0m\n\u001b[1;32m----> 1\u001b[1;33m \u001b[1;32mfor\u001b[0m \u001b[0mk\u001b[0m\u001b[1;33m,\u001b[0m\u001b[0mv\u001b[0m \u001b[1;32min\u001b[0m \u001b[0md2\u001b[0m\u001b[1;33m.\u001b[0m\u001b[0mitems\u001b[0m\u001b[1;33m(\u001b[0m\u001b[1;33m)\u001b[0m\u001b[1;33m:\u001b[0m\u001b[1;33m\u001b[0m\u001b[0m\n\u001b[0m\u001b[0;32m      2\u001b[0m     \u001b[1;32mprint\u001b[0m \u001b[0mk\u001b[0m\u001b[1;33m,\u001b[0m \u001b[0mv\u001b[0m\u001b[1;33m\u001b[0m\u001b[0m\n",
        "\u001b[1;31mNameError\u001b[0m: name 'd2' is not defined"
       ]
      }
     ],
     "prompt_number": 117
    },
    {
     "cell_type": "heading",
     "level": 3,
     "metadata": {},
     "source": [
      "Twitter Example"
     ]
    },
    {
     "cell_type": "markdown",
     "metadata": {},
     "source": [
      "The get_tweets function will return the tweets as dictionaries (with the values specified in https://dev.twitter.com/docs/platform-objects/tweets)"
     ]
    },
    {
     "cell_type": "code",
     "collapsed": false,
     "input": [
      "tweets = workshop.get_tweets(TOPTWEETS_FILE, 100)"
     ],
     "language": "python",
     "metadata": {},
     "outputs": [],
     "prompt_number": 132
    },
    {
     "cell_type": "code",
     "collapsed": false,
     "input": [
      "type(tweets[0])"
     ],
     "language": "python",
     "metadata": {},
     "outputs": [
      {
       "metadata": {},
       "output_type": "pyout",
       "prompt_number": 133,
       "text": [
        "dict"
       ]
      }
     ],
     "prompt_number": 133
    },
    {
     "cell_type": "code",
     "collapsed": false,
     "input": [
      "tweets[0].keys()"
     ],
     "language": "python",
     "metadata": {},
     "outputs": [
      {
       "metadata": {},
       "output_type": "pyout",
       "prompt_number": 134,
       "text": [
        "[u'contributors',\n",
        " u'truncated',\n",
        " u'text',\n",
        " u'in_reply_to_status_id',\n",
        " u'id',\n",
        " u'favorite_count',\n",
        " u'source',\n",
        " u'retweeted',\n",
        " u'coordinates',\n",
        " u'entities',\n",
        " u'in_reply_to_screen_name',\n",
        " u'id_str',\n",
        " u'retweet_count',\n",
        " u'in_reply_to_user_id',\n",
        " u'favorited',\n",
        " u'user',\n",
        " u'geo',\n",
        " u'in_reply_to_user_id_str',\n",
        " u'lang',\n",
        " u'created_at',\n",
        " u'in_reply_to_status_id_str',\n",
        " u'place']"
       ]
      }
     ],
     "prompt_number": 134
    },
    {
     "cell_type": "code",
     "collapsed": false,
     "input": [
      "tweets[0][\"text\"]"
     ],
     "language": "python",
     "metadata": {},
     "outputs": [
      {
       "metadata": {},
       "output_type": "pyout",
       "prompt_number": 135,
       "text": [
        "u'rt if u used to wear love spell'"
       ]
      }
     ],
     "prompt_number": 135
    },
    {
     "cell_type": "code",
     "collapsed": false,
     "input": [
      "tweets[0][\"favorite_count\"]"
     ],
     "language": "python",
     "metadata": {},
     "outputs": [
      {
       "metadata": {},
       "output_type": "pyout",
       "prompt_number": 136,
       "text": [
        "7557"
       ]
      }
     ],
     "prompt_number": 136
    },
    {
     "cell_type": "code",
     "collapsed": false,
     "input": [
      "tweets[0][\"user\"]"
     ],
     "language": "python",
     "metadata": {},
     "outputs": [
      {
       "metadata": {},
       "output_type": "pyout",
       "prompt_number": 137,
       "text": [
        "{u'contributors_enabled': False,\n",
        " u'created_at': u'Fri Feb 20 23:45:56 +0000 2009',\n",
        " u'default_profile': False,\n",
        " u'default_profile_image': False,\n",
        " u'description': u'CURRENTLY\\u2728BEAMING\\u2728ON THE PRISMATIC WORLD TOUR 2014!',\n",
        " u'entities': {u'description': {u'urls': []},\n",
        "  u'url': {u'urls': [{u'display_url': u'katyperry.com',\n",
        "     u'expanded_url': u'http://www.katyperry.com',\n",
        "     u'indices': [0, 22],\n",
        "     u'url': u'http://t.co/TUWZkUWWhw'}]}},\n",
        " u'favourites_count': 1184,\n",
        " u'follow_request_sent': False,\n",
        " u'followers_count': 59396644,\n",
        " u'following': False,\n",
        " u'friends_count': 158,\n",
        " u'geo_enabled': False,\n",
        " u'id': 21447363,\n",
        " u'id_str': u'21447363',\n",
        " u'is_translation_enabled': True,\n",
        " u'is_translator': False,\n",
        " u'lang': u'en',\n",
        " u'listed_count': 143473,\n",
        " u'location': u'',\n",
        " u'name': u'KATY PERRY ',\n",
        " u'notifications': False,\n",
        " u'profile_background_color': u'CECFBC',\n",
        " u'profile_background_image_url': u'http://pbs.twimg.com/profile_background_images/378800000168797027/kSZ-ewZo.jpeg',\n",
        " u'profile_background_image_url_https': u'https://pbs.twimg.com/profile_background_images/378800000168797027/kSZ-ewZo.jpeg',\n",
        " u'profile_background_tile': False,\n",
        " u'profile_banner_url': u'https://pbs.twimg.com/profile_banners/21447363/1401576937',\n",
        " u'profile_image_url': u'http://pbs.twimg.com/profile_images/423542935368380416/ryEG2fNO_normal.jpeg',\n",
        " u'profile_image_url_https': u'https://pbs.twimg.com/profile_images/423542935368380416/ryEG2fNO_normal.jpeg',\n",
        " u'profile_link_color': u'D55732',\n",
        " u'profile_location': None,\n",
        " u'profile_sidebar_border_color': u'FFFFFF',\n",
        " u'profile_sidebar_fill_color': u'78C0A8',\n",
        " u'profile_text_color': u'5E412F',\n",
        " u'profile_use_background_image': True,\n",
        " u'protected': False,\n",
        " u'screen_name': u'katyperry',\n",
        " u'statuses_count': 6158,\n",
        " u'time_zone': u'Alaska',\n",
        " u'url': u'http://t.co/TUWZkUWWhw',\n",
        " u'utc_offset': -32400,\n",
        " u'verified': True}"
       ]
      }
     ],
     "prompt_number": 137
    },
    {
     "cell_type": "code",
     "collapsed": false,
     "input": [
      "tweets[0][\"user\"][\"name\"]"
     ],
     "language": "python",
     "metadata": {},
     "outputs": [
      {
       "metadata": {},
       "output_type": "pyout",
       "prompt_number": 138,
       "text": [
        "u'KATY PERRY '"
       ]
      }
     ],
     "prompt_number": 138
    },
    {
     "cell_type": "code",
     "collapsed": false,
     "input": [
      "tweets[0][\"user\"][\"screen_name\"]"
     ],
     "language": "python",
     "metadata": {},
     "outputs": [
      {
       "metadata": {},
       "output_type": "pyout",
       "prompt_number": 142,
       "text": [
        "u'katyperry'"
       ]
      }
     ],
     "prompt_number": 142
    },
    {
     "cell_type": "code",
     "collapsed": false,
     "input": [
      "# You will need to use this in the exercise\n",
      "workshop.get_hashtags(tweets[97])"
     ],
     "language": "python",
     "metadata": {},
     "outputs": [
      {
       "metadata": {},
       "output_type": "pyout",
       "prompt_number": 148,
       "text": [
        "[u'FBF', u'ThisIsHowWeDo']"
       ]
      }
     ],
     "prompt_number": 148
    },
    {
     "cell_type": "markdown",
     "metadata": {},
     "source": [
      "Show print_tweet_info.py (it prints some information from the tweets)\n",
      "\n",
      "Let's see how we would compute the frequencies of lenghts of tweets"
     ]
    },
    {
     "cell_type": "code",
     "collapsed": false,
     "input": [
      "lengths = {}\n",
      "\n",
      "for tweet in workshop.tweets_text(TOPTWEETS_FILE, 500):\n",
      "    length = len(tweet)\n",
      "    if lengths.has_key(length):\n",
      "        lengths[length] += 1\n",
      "    else:\n",
      "        lengths[length] = 1\n",
      "    # Or, use the setdefault method\n",
      "\n",
      "length_freq = lengths.items()\n",
      "length_freq.sort()\n",
      "\n",
      "for length, count in length_freq:\n",
      "    print length, count"
     ],
     "language": "python",
     "metadata": {},
     "outputs": [
      {
       "output_type": "stream",
       "stream": "stdout",
       "text": [
        "1 1\n",
        "2 1\n",
        "12 4\n",
        "13 2\n",
        "14 4\n",
        "15 4\n",
        "16 4\n",
        "17 8\n",
        "18 3\n",
        "19 5\n",
        "20 11\n",
        "21 4\n",
        "22 8\n",
        "23 7\n",
        "24 3\n",
        "25 6\n",
        "26 7\n",
        "27 5\n",
        "28 10\n",
        "29 4\n",
        "30 6\n",
        "31 4\n",
        "32 3\n",
        "33 5\n",
        "34 6\n",
        "35 4\n",
        "36 3\n",
        "37 5\n",
        "38 3\n",
        "39 4\n",
        "40 3\n",
        "41 4\n",
        "42 3\n",
        "43 4\n",
        "44 4\n",
        "46 3\n",
        "47 2\n",
        "48 4\n",
        "49 3\n",
        "50 3\n",
        "51 4\n",
        "52 2\n",
        "53 3\n",
        "54 9\n",
        "55 6\n",
        "56 2\n",
        "57 1\n",
        "58 1\n",
        "59 3\n",
        "60 3\n",
        "61 2\n",
        "62 2\n",
        "63 5\n",
        "64 3\n",
        "65 1\n",
        "66 2\n",
        "67 1\n",
        "69 4\n",
        "70 2\n",
        "71 2\n",
        "72 4\n",
        "73 1\n",
        "74 5\n",
        "75 3\n",
        "76 1\n",
        "77 3\n",
        "78 2\n",
        "79 2\n",
        "80 2\n",
        "81 4\n",
        "82 2\n",
        "83 4\n",
        "84 3\n",
        "85 3\n",
        "87 4\n",
        "88 1\n",
        "89 1\n",
        "90 4\n",
        "92 1\n",
        "93 1\n",
        "94 4\n",
        "96 3\n",
        "97 5\n",
        "98 5\n",
        "99 2\n",
        "100 5\n",
        "101 2\n",
        "102 8\n",
        "103 5\n",
        "104 3\n",
        "105 1\n",
        "106 1\n",
        "107 6\n",
        "108 2\n",
        "109 5\n",
        "110 3\n",
        "111 5\n",
        "112 1\n",
        "113 7\n",
        "114 3\n",
        "115 2\n",
        "116 3\n",
        "117 1\n",
        "118 2\n",
        "119 3\n",
        "121 5\n",
        "122 3\n",
        "123 8\n",
        "124 4\n",
        "125 9\n",
        "126 5\n",
        "127 4\n",
        "128 2\n",
        "129 3\n",
        "130 4\n",
        "131 5\n",
        "132 2\n",
        "133 6\n",
        "134 6\n",
        "135 6\n",
        "136 3\n",
        "137 5\n",
        "138 6\n",
        "139 10\n",
        "140 31\n"
       ]
      }
     ],
     "prompt_number": 141
    },
    {
     "cell_type": "heading",
     "level": 3,
     "metadata": {},
     "source": [
      "Exercise"
     ]
    },
    {
     "cell_type": "markdown",
     "metadata": {},
     "source": [
      "Modify `get_length_frequencies.py` to compute the frequency of hash tags\n",
      "\n",
      "Remember: The workshops module includes a `get_hashtags` function that, given a tweets, will return a list of hashtags.\n",
      "\n",
      "Challenge: Print out only the top 10 hashtags (you need to figure out how to sort a list of tuples using a specific item of the tuples as a key)"
     ]
    },
    {
     "cell_type": "code",
     "collapsed": false,
     "input": [
      "hashtags = {}\n",
      "\n",
      "for tweet in workshop.tweets(tfile, n):\n",
      "    tweet_hashtags = workshop.get_hashtags(tweet)\n",
      "    for hashtag in tweet_hashtags:\n",
      "        hashtags[hashtag] = hashtags.setdefault(hashtag, 0) + 1\n",
      "\n",
      "hashtags_freq = hashtags.items()\n",
      "hashtags_freq.sort(key = operator.itemgetter(1), reverse = True)\n",
      "\n",
      "for hashtag, count in hashtags_freq[:10]:\n",
      "    print \"#\" + hashtag, count"
     ],
     "language": "python",
     "metadata": {},
     "outputs": []
    },
    {
     "cell_type": "heading",
     "level": 2,
     "metadata": {},
     "source": [
      "Functions"
     ]
    },
    {
     "cell_type": "code",
     "collapsed": false,
     "input": [
      "def multiply(a,b):\n",
      "    return a*b"
     ],
     "language": "python",
     "metadata": {},
     "outputs": [],
     "prompt_number": 105
    },
    {
     "cell_type": "code",
     "collapsed": false,
     "input": [
      "multiply(3,4)"
     ],
     "language": "python",
     "metadata": {},
     "outputs": [
      {
       "metadata": {},
       "output_type": "pyout",
       "prompt_number": 106,
       "text": [
        "12"
       ]
      }
     ],
     "prompt_number": 106
    },
    {
     "cell_type": "code",
     "collapsed": false,
     "input": [
      "def incr(l):\n",
      "    l2 = []\n",
      "    for x in l:\n",
      "        l2.append(x+1)\n",
      "    return l2"
     ],
     "language": "python",
     "metadata": {},
     "outputs": [],
     "prompt_number": 107
    },
    {
     "cell_type": "code",
     "collapsed": false,
     "input": [
      "def incr2(l):\n",
      "    l2 = []\n",
      "    i = 0\n",
      "    # Not pythonic!\n",
      "    while i < len(l):\n",
      "        l2.append(l[i]+1)\n",
      "        i += 1\n",
      "    return l2"
     ],
     "language": "python",
     "metadata": {},
     "outputs": [],
     "prompt_number": 108
    },
    {
     "cell_type": "code",
     "collapsed": false,
     "input": [
      "l = [1,2,3,4,5]"
     ],
     "language": "python",
     "metadata": {},
     "outputs": [],
     "prompt_number": 109
    },
    {
     "cell_type": "code",
     "collapsed": false,
     "input": [
      "incr(l)"
     ],
     "language": "python",
     "metadata": {},
     "outputs": [
      {
       "metadata": {},
       "output_type": "pyout",
       "prompt_number": 110,
       "text": [
        "[2, 3, 4, 5, 6]"
       ]
      }
     ],
     "prompt_number": 110
    },
    {
     "cell_type": "code",
     "collapsed": false,
     "input": [
      "incr2(l)"
     ],
     "language": "python",
     "metadata": {},
     "outputs": [
      {
       "metadata": {},
       "output_type": "pyout",
       "prompt_number": 111,
       "text": [
        "[2, 3, 4, 5, 6]"
       ]
      }
     ],
     "prompt_number": 111
    },
    {
     "cell_type": "code",
     "collapsed": false,
     "input": [
      "def incr_by(l, by=1):\n",
      "    l2 = []\n",
      "    for x in l:\n",
      "        l2.append(x+by)\n",
      "    return l2"
     ],
     "language": "python",
     "metadata": {},
     "outputs": [],
     "prompt_number": 112
    },
    {
     "cell_type": "code",
     "collapsed": false,
     "input": [
      "incr_by(l, 1)"
     ],
     "language": "python",
     "metadata": {},
     "outputs": [
      {
       "metadata": {},
       "output_type": "pyout",
       "prompt_number": 113,
       "text": [
        "[2, 3, 4, 5, 6]"
       ]
      }
     ],
     "prompt_number": 113
    },
    {
     "cell_type": "code",
     "collapsed": false,
     "input": [
      "incr_by(l, 2)"
     ],
     "language": "python",
     "metadata": {},
     "outputs": [
      {
       "metadata": {},
       "output_type": "pyout",
       "prompt_number": 114,
       "text": [
        "[3, 4, 5, 6, 7]"
       ]
      }
     ],
     "prompt_number": 114
    },
    {
     "cell_type": "code",
     "collapsed": false,
     "input": [
      "incr_by(l)"
     ],
     "language": "python",
     "metadata": {},
     "outputs": [
      {
       "metadata": {},
       "output_type": "pyout",
       "prompt_number": 115,
       "text": [
        "[2, 3, 4, 5, 6]"
       ]
      }
     ],
     "prompt_number": 115
    },
    {
     "cell_type": "code",
     "collapsed": false,
     "input": [
      "incr_by(l, by = 5)"
     ],
     "language": "python",
     "metadata": {},
     "outputs": [
      {
       "metadata": {},
       "output_type": "pyout",
       "prompt_number": 149,
       "text": [
        "[6, 7, 8, 9, 10]"
       ]
      }
     ],
     "prompt_number": 149
    },
    {
     "cell_type": "code",
     "collapsed": false,
     "input": [
      "def minusplus(x):\n",
      "    return x-1, x+1"
     ],
     "language": "python",
     "metadata": {},
     "outputs": [],
     "prompt_number": 150
    },
    {
     "cell_type": "code",
     "collapsed": false,
     "input": [
      "minusplus(5)"
     ],
     "language": "python",
     "metadata": {},
     "outputs": [
      {
       "metadata": {},
       "output_type": "pyout",
       "prompt_number": 151,
       "text": [
        "(4, 6)"
       ]
      }
     ],
     "prompt_number": 151
    },
    {
     "cell_type": "code",
     "collapsed": false,
     "input": [
      "x, y = minusplus(5)"
     ],
     "language": "python",
     "metadata": {},
     "outputs": [],
     "prompt_number": 152
    },
    {
     "cell_type": "code",
     "collapsed": false,
     "input": [
      "x"
     ],
     "language": "python",
     "metadata": {},
     "outputs": [
      {
       "metadata": {},
       "output_type": "pyout",
       "prompt_number": 153,
       "text": [
        "4"
       ]
      }
     ],
     "prompt_number": 153
    },
    {
     "cell_type": "code",
     "collapsed": false,
     "input": [
      "y"
     ],
     "language": "python",
     "metadata": {},
     "outputs": [
      {
       "metadata": {},
       "output_type": "pyout",
       "prompt_number": 154,
       "text": [
        "6"
       ]
      }
     ],
     "prompt_number": 154
    },
    {
     "cell_type": "heading",
     "level": 3,
     "metadata": {},
     "source": [
      "Twitter Example"
     ]
    },
    {
     "cell_type": "markdown",
     "metadata": {},
     "source": [
      "Write a function that returns the lengths of tweets. We will put this in functions.py"
     ]
    },
    {
     "cell_type": "code",
     "collapsed": false,
     "input": [
      "def extract_lengths(tweets_file, n):\n",
      "    \"\"\"Extract the lengths of the tweets in a tweet dataset\n",
      "\n",
      "    Parameters:\n",
      "     tweets_file - Dataset filename\n",
      "     n - Maximum number of tweets to load from the dataset\n",
      "         Note that fewer tweets may be returned if n is\n",
      "         larger than the number of tweets in the dataset.\n",
      "\n",
      "    Returns:\n",
      "    List of integers (lengths)\n",
      "    \"\"\"\n",
      "    l = []\n",
      "    for tweet in workshop.tweets(tweets_file, n):\n",
      "        l.append(len(tweet[\"text\"]))\n",
      "\n",
      "    return l"
     ],
     "language": "python",
     "metadata": {},
     "outputs": [],
     "prompt_number": 155
    },
    {
     "cell_type": "code",
     "collapsed": false,
     "input": [
      "extract_lengths(TOPTWEETS_FILE, 100)"
     ],
     "language": "python",
     "metadata": {},
     "outputs": [
      {
       "metadata": {},
       "output_type": "pyout",
       "prompt_number": 156,
       "text": [
        "[31,\n",
        " 51,\n",
        " 53,\n",
        " 79,\n",
        " 25,\n",
        " 74,\n",
        " 66,\n",
        " 14,\n",
        " 140,\n",
        " 93,\n",
        " 40,\n",
        " 67,\n",
        " 39,\n",
        " 123,\n",
        " 34,\n",
        " 30,\n",
        " 125,\n",
        " 97,\n",
        " 83,\n",
        " 140,\n",
        " 111,\n",
        " 133,\n",
        " 53,\n",
        " 139,\n",
        " 84,\n",
        " 77,\n",
        " 75,\n",
        " 118,\n",
        " 70,\n",
        " 107,\n",
        " 111,\n",
        " 97,\n",
        " 83,\n",
        " 43,\n",
        " 140,\n",
        " 69,\n",
        " 138,\n",
        " 140,\n",
        " 124,\n",
        " 138,\n",
        " 125,\n",
        " 59,\n",
        " 81,\n",
        " 29,\n",
        " 81,\n",
        " 129,\n",
        " 104,\n",
        " 139,\n",
        " 46,\n",
        " 33,\n",
        " 21,\n",
        " 109,\n",
        " 100,\n",
        " 113,\n",
        " 41,\n",
        " 139,\n",
        " 66,\n",
        " 140,\n",
        " 79,\n",
        " 69,\n",
        " 134,\n",
        " 50,\n",
        " 135,\n",
        " 126,\n",
        " 102,\n",
        " 85,\n",
        " 84,\n",
        " 134,\n",
        " 126,\n",
        " 51,\n",
        " 139,\n",
        " 140,\n",
        " 114,\n",
        " 125,\n",
        " 140,\n",
        " 140,\n",
        " 132,\n",
        " 97,\n",
        " 140,\n",
        " 125,\n",
        " 140,\n",
        " 33,\n",
        " 130,\n",
        " 135,\n",
        " 139,\n",
        " 27,\n",
        " 101,\n",
        " 125,\n",
        " 131,\n",
        " 131,\n",
        " 110,\n",
        " 102,\n",
        " 54,\n",
        " 128,\n",
        " 42,\n",
        " 76,\n",
        " 36,\n",
        " 139,\n",
        " 94,\n",
        " 131]"
       ]
      }
     ],
     "prompt_number": 156
    },
    {
     "cell_type": "markdown",
     "metadata": {},
     "source": [
      "We can now use this from `length_histograms.py` (don't worry about the Matplotlib code, we'll see this later).\n",
      "\n",
      "Notice how we do:\n",
      "\n",
      "`from functions import extract_lengths`\n",
      "\n",
      "And we can then use the `extract_lengths` function from `functions.py`"
     ]
    },
    {
     "cell_type": "heading",
     "level": 3,
     "metadata": {},
     "source": [
      "Exercise"
     ]
    },
    {
     "cell_type": "markdown",
     "metadata": {},
     "source": [
      "Implement the following functions:\n",
      "\n",
      "`extract_values(tweets_file, n, field)`: Similar to `extract_lengths`, but extracting a specific field from the tweet.\n",
      "\n",
      "`compute_frequencies(l)`: Given a list of values, returns a dictionary mapping values to the number of times that value appears in the list. A more general version of what we did for hashtags\n",
      "\n",
      "If you implement them correctly, you should be able to run `get_frequencies.py`"
     ]
    },
    {
     "cell_type": "code",
     "collapsed": false,
     "input": [
      "def extract_values(tweets_file, n, field):\n",
      "    l = []\n",
      "    for tweet in workshop.tweets(tweets_file, n):\n",
      "        l.append(tweet[field])\n",
      "\n",
      "    return l\n",
      "\n",
      "def compute_frequencies(l):\n",
      "    freqs = {}\n",
      "    for v in l:\n",
      "        freqs[v] = freqs.setdefault(v, 0) + 1\n",
      "\n",
      "    return freqs"
     ],
     "language": "python",
     "metadata": {},
     "outputs": [],
     "prompt_number": 157
    },
    {
     "cell_type": "heading",
     "level": 2,
     "metadata": {},
     "source": [
      "Simple Visualizations"
     ]
    },
    {
     "cell_type": "code",
     "collapsed": false,
     "input": [
      "# IPython Notebook-specific\n",
      "%matplotlib inline"
     ],
     "language": "python",
     "metadata": {},
     "outputs": []
    },
    {
     "cell_type": "code",
     "collapsed": false,
     "input": [
      "import matplotlib.pylab as plt"
     ],
     "language": "python",
     "metadata": {},
     "outputs": [],
     "prompt_number": 158
    },
    {
     "cell_type": "code",
     "collapsed": false,
     "input": [
      "ys = [10,5,7,20,-5,7]"
     ],
     "language": "python",
     "metadata": {},
     "outputs": [],
     "prompt_number": 159
    },
    {
     "cell_type": "code",
     "collapsed": false,
     "input": [
      "plt.plot(ys)"
     ],
     "language": "python",
     "metadata": {},
     "outputs": [
      {
       "metadata": {},
       "output_type": "pyout",
       "prompt_number": 160,
       "text": [
        "[<matplotlib.lines.Line2D at 0x7f0d61464850>]"
       ]
      },
      {
       "metadata": {},
       "output_type": "display_data",
       "png": "[encoded data removed]",
       "text": [
        "<matplotlib.figure.Figure at 0x7f0d6aad76d0>"
       ]
      }
     ],
     "prompt_number": 160
    },
    {
     "cell_type": "code",
     "collapsed": false,
     "input": [
      "xs = [1,2,7,8,12,50]"
     ],
     "language": "python",
     "metadata": {},
     "outputs": [],
     "prompt_number": 161
    },
    {
     "cell_type": "code",
     "collapsed": false,
     "input": [
      "plt.plot(xs,ys)"
     ],
     "language": "python",
     "metadata": {},
     "outputs": [
      {
       "metadata": {},
       "output_type": "pyout",
       "prompt_number": 162,
       "text": [
        "[<matplotlib.lines.Line2D at 0x7f0d61346490>]"
       ]
      },
      {
       "metadata": {},
       "output_type": "display_data",
       "png": "[encoded data removed]",
       "text": [
        "<matplotlib.figure.Figure at 0x7f0d61413390>"
       ]
      }
     ],
     "prompt_number": 162
    },
    {
     "cell_type": "code",
     "collapsed": false,
     "input": [
      "plt.xlabel(\"Some x values\")\n",
      "plt.ylabel(\"Some y values\")\n",
      "plt.plot(xs,ys)"
     ],
     "language": "python",
     "metadata": {},
     "outputs": [
      {
       "metadata": {},
       "output_type": "pyout",
       "prompt_number": 163,
       "text": [
        "[<matplotlib.lines.Line2D at 0x7f0d61301210>]"
       ]
      },
      {
       "metadata": {},
       "output_type": "display_data",
       "png": "[encoded data removed]",
       "text": [
        "<matplotlib.figure.Figure at 0x7f0d613fc150>"
       ]
      }
     ],
     "prompt_number": 163
    },
    {
     "cell_type": "code",
     "collapsed": false,
     "input": [
      "import random\n",
      "random_xs = [random.uniform(-10,10) for x in range(100)]\n",
      "random_ys = [random.uniform(-10,10) for x in range(100)]"
     ],
     "language": "python",
     "metadata": {},
     "outputs": [],
     "prompt_number": 164
    },
    {
     "cell_type": "code",
     "collapsed": false,
     "input": [
      "plt.plot(random_xs, random_ys, \"o\")"
     ],
     "language": "python",
     "metadata": {},
     "outputs": [
      {
       "metadata": {},
       "output_type": "pyout",
       "prompt_number": 165,
       "text": [
        "[<matplotlib.lines.Line2D at 0x7f0d6121de50>]"
       ]
      },
      {
       "metadata": {},
       "output_type": "display_data",
       "png": "[encoded data removed]",
       "text": [
        "<matplotlib.figure.Figure at 0x7f0d614ab290>"
       ]
      }
     ],
     "prompt_number": 165
    },
    {
     "cell_type": "code",
     "collapsed": false,
     "input": [
      "plt.plot(random_xs, random_ys, \"+\")"
     ],
     "language": "python",
     "metadata": {},
     "outputs": [
      {
       "metadata": {},
       "output_type": "pyout",
       "prompt_number": 166,
       "text": [
        "[<matplotlib.lines.Line2D at 0x7f0d611bdd50>]"
       ]
      },
      {
       "metadata": {},
       "output_type": "display_data",
       "png": "[encoded data removed]",
       "text": [
        "<matplotlib.figure.Figure at 0x7f0d611cb390>"
       ]
      }
     ],
     "prompt_number": 166
    },
    {
     "cell_type": "code",
     "collapsed": false,
     "input": [
      "norm_values = [random.normalvariate(10,3) for x in range(10000)]"
     ],
     "language": "python",
     "metadata": {},
     "outputs": [],
     "prompt_number": 167
    },
    {
     "cell_type": "code",
     "collapsed": false,
     "input": [
      "h = plt.hist(norm_values, bins=100)"
     ],
     "language": "python",
     "metadata": {},
     "outputs": [
      {
       "metadata": {},
       "output_type": "display_data",
       "png": "[encoded data removed]",
       "text": [
        "<matplotlib.figure.Figure at 0x7f0d6aad77d0>"
       ]
      }
     ],
     "prompt_number": 168
    },
    {
     "cell_type": "code",
     "collapsed": false,
     "input": [
      "import math\n",
      "xs = [0.1*x for x in range(-200,200)]\n",
      "sin_ys = [math.sin(x) for x in xs]\n",
      "cos_ys = [math.cos(x) for x in xs]\n",
      "plt.plot(xs, sin_ys, color=\"blue\", label=\"sin(x)\")\n",
      "plt.plot(xs, cos_ys, color=\"red\", label=\"cos(x)\")\n",
      "plt.ylim(-2, 2)\n",
      "plt.axhline(0, color=\"gray\", linestyle=\"--\")\n",
      "plt.legend()"
     ],
     "language": "python",
     "metadata": {},
     "outputs": [
      {
       "metadata": {},
       "output_type": "pyout",
       "prompt_number": 170,
       "text": [
        "<matplotlib.legend.Legend at 0x7f0d611ff1d0>"
       ]
      },
      {
       "metadata": {},
       "output_type": "display_data",
       "png": "[encoded data removed]",
       "text": [
        "<matplotlib.figure.Figure at 0x7f0d60d9ba90>"
       ]
      }
     ],
     "prompt_number": 170
    },
    {
     "cell_type": "heading",
     "level": 3,
     "metadata": {},
     "source": [
      "Twitter example"
     ]
    },
    {
     "cell_type": "markdown",
     "metadata": {},
     "source": [
      "Let's show the distribution of lengths:"
     ]
    },
    {
     "cell_type": "code",
     "collapsed": false,
     "input": [
      "lengths = extract_lengths(TWEETS_FILE, 20000)\n",
      "freqs = compute_frequencies(lengths)\n",
      "freqs = freqs.items()\n",
      "freqs.sort()\n",
      "xs = [f[0] for f in freqs]\n",
      "ys = [f[1] for f in freqs]\n",
      "plt.plot(xs, ys)"
     ],
     "language": "python",
     "metadata": {},
     "outputs": [
      {
       "metadata": {},
       "output_type": "pyout",
       "prompt_number": 173,
       "text": [
        "[<matplotlib.lines.Line2D at 0x7f0d60bcba50>]"
       ]
      },
      {
       "metadata": {},
       "output_type": "display_data",
       "png": "[encoded data removed]",
       "text": [
        "<matplotlib.figure.Figure at 0x7f0d60ce4110>"
       ]
      }
     ],
     "prompt_number": 173
    },
    {
     "cell_type": "markdown",
     "metadata": {},
     "source": [
      "And a couple of interesting histograms:"
     ]
    },
    {
     "cell_type": "code",
     "collapsed": false,
     "input": [
      "lengths = extract_lengths(TWEETS_FILE, 20000)\n",
      "top_lengths = extract_lengths(TOPTWEETS_FILE, 20000)"
     ],
     "language": "python",
     "metadata": {},
     "outputs": [],
     "prompt_number": 178
    },
    {
     "cell_type": "code",
     "collapsed": false,
     "input": [
      "h = plt.hist(lengths, bins=50)"
     ],
     "language": "python",
     "metadata": {},
     "outputs": [
      {
       "metadata": {},
       "output_type": "display_data",
       "png": "[encoded data removed]",
       "text": [
        "<matplotlib.figure.Figure at 0x7f0d60e470d0>"
       ]
      }
     ],
     "prompt_number": 188
    },
    {
     "cell_type": "code",
     "collapsed": false,
     "input": [
      "h = plt.hist(top_lengths, bins=50)"
     ],
     "language": "python",
     "metadata": {},
     "outputs": [
      {
       "metadata": {},
       "output_type": "display_data",
       "png": "[encoded data removed]",
       "text": [
        "<matplotlib.figure.Figure at 0x7f0d60155250>"
       ]
      }
     ],
     "prompt_number": 189
    },
    {
     "cell_type": "code",
     "collapsed": false,
     "input": [
      "top_retweets = extract_values(TOPTWEETS_FILE, 20000, \"retweet_count\")\n",
      "h = plt.hist(top_retweets, bins=50, log=True)"
     ],
     "language": "python",
     "metadata": {},
     "outputs": [
      {
       "metadata": {},
       "output_type": "display_data",
       "png": "[encoded data removed]",
       "text": [
        "<matplotlib.figure.Figure at 0x7f0d60271e10>"
       ]
      }
     ],
     "prompt_number": 190
    },
    {
     "cell_type": "code",
     "collapsed": false,
     "input": [
      "top_favorite = extract_values(TOPTWEETS_FILE, 20000, \"favorite_count\")\n",
      "h = plt.hist(top_favorite, bins=50, log=True)"
     ],
     "language": "python",
     "metadata": {},
     "outputs": [
      {
       "metadata": {},
       "output_type": "display_data",
       "png": "[encoded data removed]",
       "text": [
        "<matplotlib.figure.Figure at 0x7f0d5bd54650>"
       ]
      }
     ],
     "prompt_number": 191
    }
   ],
   "metadata": {}
  }
 ]
}